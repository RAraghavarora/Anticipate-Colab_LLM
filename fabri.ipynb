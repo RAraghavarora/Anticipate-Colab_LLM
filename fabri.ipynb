{
 "cells": [
  {
   "cell_type": "code",
   "execution_count": 11,
   "id": "fea161d2-028c-4c43-a914-be4479a630a7",
   "metadata": {
    "collapsed": false,
    "jupyter": {
     "outputs_hidden": false
    }
   },
   "outputs": [],
   "source": [
    "from palm_sequence import prompt_gemini\n",
    "import json\n",
    "from azure import prompt_gpt"
   ]
  },
  {
   "cell_type": "code",
   "execution_count": 12,
   "id": "c1791c0f-e9cc-4f21-99b9-666820072e27",
   "metadata": {
    "collapsed": false,
    "jupyter": {
     "outputs_hidden": false
    }
   },
   "outputs": [],
   "source": [
    "with open(\"data/h1_corrected_format.json\") as f:\n",
    "    household_responses = json.load(f)"
   ]
  },
  {
   "cell_type": "code",
   "execution_count": 13,
   "id": "83df30f2-fa84-4873-a888-0c2df3d1d0b3",
   "metadata": {
    "collapsed": false,
    "jupyter": {
     "outputs_hidden": false
    }
   },
   "outputs": [],
   "source": [
    "scenes = list(household_responses.keys())"
   ]
  },
  {
   "cell_type": "code",
   "execution_count": 14,
   "id": "6f2e3c04-7a55-4292-8cad-e51ed435ad66",
   "metadata": {
    "collapsed": false,
    "jupyter": {
     "outputs_hidden": false
    }
   },
   "outputs": [],
   "source": [
    "    response_users = [\n",
    "        key for key in household_responses[scenes[0]].keys() if key.startswith(\"user\")\n",
    "    ]\n",
    "users_exist = len(response_users)\n",
    "users_needed = 9"
   ]
  },
  {
   "cell_type": "code",
   "execution_count": 15,
   "id": "98af132e-0607-4a93-9f01-2c421f691c44",
   "metadata": {},
   "outputs": [],
   "source": [
    "scene = 'scene_3'\n",
    "user = 'user_4'\n",
    "scene_details = household_responses[scene]['details']\n",
    "op_dict = prompt_gpt(scene_details)"
   ]
  },
  {
   "cell_type": "code",
   "execution_count": 16,
   "id": "d12edc49-9d6f-420d-92e4-200c40c99aee",
   "metadata": {},
   "outputs": [],
   "source": [
    "op_dict"
   ]
  },
  {
   "cell_type": "code",
   "execution_count": 7,
   "id": "c2900dff-c0fc-4615-abdd-a71ebc0e7e63",
   "metadata": {
    "collapsed": false,
    "jupyter": {
     "outputs_hidden": false
    }
   },
   "outputs": [
    {
     "name": "stdout",
     "output_type": "stream",
     "text": [
      "User already exists?!?!\n",
      "message sent\n",
      "0\n",
      "message sent\n",
      "0\n",
      "message sent\n",
      "0\n",
      "message sent\n",
      "0\n",
      "message sent\n",
      "0\n",
      "User already exists?!?!\n",
      "message sent\n",
      "0\n",
      "message sent\n",
      "0\n",
      "message sent\n",
      "0\n",
      "message sent\n",
      "0\n",
      "message sent\n",
      "0\n",
      "User already exists?!?!\n",
      "message sent\n",
      "0\n",
      "message sent\n",
      "0\n",
      "message sent\n",
      "0\n",
      "message sent\n",
      "0\n",
      "message sent\n",
      "0\n",
      "User already exists?!?!\n",
      "message sent\n",
      "0\n",
      "message sent\n",
      "0\n",
      "message sent\n",
      "0\n",
      "message sent\n",
      "0\n",
      "message sent\n",
      "0\n",
      "User already exists?!?!\n",
      "message sent\n",
      "0\n",
      "message sent\n",
      "0\n",
      "message sent\n",
      "0\n",
      "message sent\n",
      "0\n",
      "message sent\n",
      "0\n"
     ]
    }
   ],
   "source": [
    "for scene in scenes:\n",
    "    scene_details = household_responses[scene]['details']\n",
    "    response_users = [\n",
    "        key for key in household_responses[scene].keys() if key.startswith(\"user\")\n",
    "    ]\n",
    "    for user in range(users_exist, users_needed, 1):\n",
    "        if f'user_{user-1}' not in household_responses[scene].keys():\n",
    "            op_dict = prompt_gemini(scene_details)\n",
    "            op_tasks = op_dict['tasks']\n",
    "            household_responses[scene][f'user_{user-1}'] = op_tasks\n",
    "        else:\n",
    "            print('User already exists?!?!')\n",
    "                                "
   ]
  },
  {
   "cell_type": "code",
   "execution_count": 25,
   "id": "4bed3d16-ae91-47ec-b760-06173c086629",
   "metadata": {
    "collapsed": false,
    "jupyter": {
     "outputs_hidden": false
    }
   },
   "outputs": [
    {
     "data": {
      "text/plain": [
       "{'details': 'It is morning time, the user has to go to the office. \\n You see the user perform the task:  \\n *prepare the office bag* \\n What do you anticipate to be the next 4 tasks? \\n Requirement: The office clothes are dirty',\n",
       " 'user_0': ['do the laundry',\n",
       "  'charge the electronic devices',\n",
       "  'prepare food',\n",
       "  'serve the food'],\n",
       " 'user_1': ['prepare food',\n",
       "  'prepare office clothes',\n",
       "  'serve the food',\n",
       "  'wash the dishes'],\n",
       " 'user_2': ['do the laundry',\n",
       "  'prepare office clothes',\n",
       "  'charge the electronic devices',\n",
       "  'prepare food'],\n",
       " 'user_4': ['do the laundry',\n",
       "  'prepare office clothes',\n",
       "  'prepare food',\n",
       "  'charge the electronic devices'],\n",
       " 'user_5': ['do the laundry',\n",
       "  'prepare food (omelette)',\n",
       "  'serve the food (omelette)',\n",
       "  'prepare the office bag'],\n",
       " 'user_6': ['do the laundry',\n",
       "  'prepare food',\n",
       "  'serve the food',\n",
       "  'prepare office clothes',\n",
       "  'charge the electronic devices'],\n",
       " 'user_7': ['do the laundry',\n",
       "  'prepare office clothes',\n",
       "  'charge the electronic devices',\n",
       "  'prepare food',\n",
       "  'serve the food'],\n",
       " 'user_8': ['do the laundry',\n",
       "  'prepare food',\n",
       "  'serve the food',\n",
       "  'serve a drink (coffee)']}"
      ]
     },
     "execution_count": 23,
     "metadata": {},
     "output_type": "execute_result"
    },
    {
     "data": {
      "text/plain": [
       "{'details': 'It is morning time, the user has to go to the office. \\n You see the user perform the task:  \\n *prepare the office bag* \\n What do you anticipate to be the next 4 tasks? \\n Requirement: The office clothes are dirty',\n",
       " 'user_0': ['do the laundry',\n",
       "  'charge the electronic devices',\n",
       "  'prepare food',\n",
       "  'serve the food'],\n",
       " 'user_1': ['prepare food',\n",
       "  'prepare office clothes',\n",
       "  'serve the food',\n",
       "  'wash the dishes'],\n",
       " 'user_2': ['do the laundry',\n",
       "  'prepare office clothes',\n",
       "  'charge the electronic devices',\n",
       "  'prepare food'],\n",
       " 'user_4': ['do the laundry',\n",
       "  'prepare office clothes',\n",
       "  'prepare food',\n",
       "  'charge the electronic devices'],\n",
       " 'user_5': ['do the laundry',\n",
       "  'prepare food (omelette)',\n",
       "  'serve the food (omelette)',\n",
       "  'prepare the office bag'],\n",
       " 'user_6': ['do the laundry',\n",
       "  'prepare food',\n",
       "  'serve the food',\n",
       "  'prepare office clothes',\n",
       "  'charge the electronic devices'],\n",
       " 'user_7': ['do the laundry',\n",
       "  'prepare office clothes',\n",
       "  'charge the electronic devices',\n",
       "  'prepare food',\n",
       "  'serve the food'],\n",
       " 'user_8': ['do the laundry',\n",
       "  'prepare food',\n",
       "  'serve the food',\n",
       "  'serve a drink (coffee)']}"
      ]
     },
     "execution_count": 25,
     "metadata": {},
     "output_type": "execute_result"
    }
   ],
   "source": [
    "household_responses['scene_0']"
   ]
  },
  {
   "cell_type": "code",
   "execution_count": 8,
   "id": "9f127632-5013-4d62-afd1-7e6100cf1d8f",
   "metadata": {
    "collapsed": false,
    "jupyter": {
     "outputs_hidden": false
    }
   },
   "outputs": [],
   "source": [
    "with open(\"data/h1_corrected_fabri.json\", \"w\") as file:\n",
    "    json.dump(household_responses, file, indent=2)"
   ]
  },
  {
   "cell_type": "code",
   "execution_count": null,
   "id": "10515e91-12d9-4ffb-8087-23259dc11bf4",
   "metadata": {
    "collapsed": false,
    "jupyter": {
     "outputs_hidden": false
    }
   },
   "outputs": [],
   "source": []
  }
 ],
 "metadata": {
  "kernelspec": {
   "display_name": "Python 3 (ipykernel)",
   "language": "python",
   "name": "python3"
  },
  "language_info": {
   "codemirror_mode": {
    "name": "ipython",
    "version": 3
   },
   "file_extension": ".py",
   "mimetype": "text/x-python",
   "name": "python",
   "nbconvert_exporter": "python",
   "pygments_lexer": "ipython3",
   "version": "3.9.18"
  },
  "name": "fabri.ipynb"
 },
 "nbformat": 4,
 "nbformat_minor": 5
}
