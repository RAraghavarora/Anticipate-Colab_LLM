{
 "cells": [
  {
   "cell_type": "code",
   "execution_count": null,
   "id": "ff158a3a",
   "metadata": {
    "lines_to_next_cell": 0
   },
   "outputs": [],
   "source": [
    "import os\n",
    "\n",
    "os.getcwd()\n",
    "\n",
    "print(\"Hello, world!\")"
   ]
  },
  {
   "cell_type": "code",
   "execution_count": null,
   "id": "0955ed30",
   "metadata": {},
   "outputs": [],
   "source": []
  },
  {
   "cell_type": "code",
   "execution_count": null,
   "id": "7c221159",
   "metadata": {},
   "outputs": [],
   "source": [
    "from palm_sequence import prompt_gemini"
   ]
  },
  {
   "cell_type": "code",
   "execution_count": null,
   "id": "e87292f2",
   "metadata": {},
   "outputs": [],
   "source": []
  }
 ],
 "metadata": {
  "kernelspec": {
   "display_name": "default",
   "language": "python",
   "name": "python3"
  }
 },
 "nbformat": 4,
 "nbformat_minor": 5
}